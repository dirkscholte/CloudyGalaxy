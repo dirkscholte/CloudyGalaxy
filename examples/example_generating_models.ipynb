{
 "cells": [
  {
   "cell_type": "markdown",
   "metadata": {},
   "source": [
    "# Example for generating photoionization models"
   ]
  },
  {
   "cell_type": "code",
   "execution_count": 1,
   "metadata": {},
   "outputs": [],
   "source": [
    "import numpy as np\n",
    "import matplotlib.pyplot as plt\n",
    "import pyCloudy as pc\n",
    "pc.log_.level = 3\n",
    "\n",
    "\n",
    "from sys import path\n",
    "path.insert(0,'../CloudyGalaxy/')\n",
    "\n",
    "from gas_stats import GasStatsBy17 as GasStats\n",
    "from abundances import ElementalAbundances, convert_xi_to_F\n",
    "from read_write_cloudy import StellarSpectrum, format_emission_table, make_input_file, make_emission_line_files"
   ]
  },
  {
   "cell_type": "markdown",
   "metadata": {},
   "source": [
    "### Setting the data paths and cores to use for Cloudy"
   ]
  },
  {
   "cell_type": "code",
   "execution_count": 2,
   "metadata": {},
   "outputs": [],
   "source": [
    "n_proc              = 6\n",
    "\n",
    "output_dir          = '/Users/dirk/Documents/PhD/scripts/CloudyGalaxy/examples/output_data/'\n",
    "model_name          = 'test_model_low_res_jenkins_depletion'\n",
    "data_path           = '../CloudyGalaxy/input_data/'\n",
    "star_table_filename = 'Chabrier_constant_SFH_IMF_lower_0p08_IMF_upper_120_star_table.ASCII'\n",
    "emission_line_list  = format_emission_table('../CloudyGalaxy/input_data/LineList_HII.dat')\n"
   ]
  },
  {
   "cell_type": "markdown",
   "metadata": {},
   "source": [
    "### Defining the grid of free parameters for which to produce models"
   ]
  },
  {
   "cell_type": "code",
   "execution_count": 3,
   "metadata": {},
   "outputs": [],
   "source": [
    "nlogZs = 3\n",
    "nlogUs = 2\n",
    "nxis   = 2\n",
    "ntaus  = 2\n",
    "\n",
    "logZs = np.linspace(-1.0, 0.7, nlogZs)\n",
    "logUs = np.linspace(-4.0, -1.0, nlogUs)\n",
    "xis   = np.linspace(0.1, 0.6, nxis)\n",
    "logtaus  = np.linspace(-2.0, 0.6, ntaus)\n",
    "Fs    = np.ones((nlogZs,nxis))*np.nan\n"
   ]
  },
  {
   "cell_type": "markdown",
   "metadata": {},
   "source": [
    "### Making the Cloudy input files"
   ]
  },
  {
   "cell_type": "code",
   "execution_count": 4,
   "metadata": {},
   "outputs": [
    {
     "name": "stdout",
     "output_type": "stream",
     "text": [
      "     print_make_file: make_file_printed with cloudy.exe = /Users/dirk/Documents/PhD/scripts/packages/c17.02/source/cloudy.exe\n",
      "     CloudyInput: Input writen in /Users/dirk/Documents/PhD/scripts/CloudyGalaxy/examples/output_data/test_model_low_res_jenkins_depletion_-1.000e+00_-4.000e+00_1.000e-01.in\n",
      "     CloudyInput: Input writen in /Users/dirk/Documents/PhD/scripts/CloudyGalaxy/examples/output_data/test_model_low_res_jenkins_depletion_-1.000e+00_-4.000e+00_6.000e-01.in\n",
      "     CloudyInput: Input writen in /Users/dirk/Documents/PhD/scripts/CloudyGalaxy/examples/output_data/test_model_low_res_jenkins_depletion_-1.000e+00_-1.000e+00_1.000e-01.in\n",
      "     CloudyInput: Input writen in /Users/dirk/Documents/PhD/scripts/CloudyGalaxy/examples/output_data/test_model_low_res_jenkins_depletion_-1.000e+00_-1.000e+00_6.000e-01.in\n",
      "     CloudyInput: Input writen in /Users/dirk/Documents/PhD/scripts/CloudyGalaxy/examples/output_data/test_model_low_res_jenkins_depletion_-1.500e-01_-4.000e+00_1.000e-01.in\n",
      "     CloudyInput: Input writen in /Users/dirk/Documents/PhD/scripts/CloudyGalaxy/examples/output_data/test_model_low_res_jenkins_depletion_-1.500e-01_-4.000e+00_6.000e-01.in\n",
      "     CloudyInput: Input writen in /Users/dirk/Documents/PhD/scripts/CloudyGalaxy/examples/output_data/test_model_low_res_jenkins_depletion_-1.500e-01_-1.000e+00_1.000e-01.in\n",
      "     CloudyInput: Input writen in /Users/dirk/Documents/PhD/scripts/CloudyGalaxy/examples/output_data/test_model_low_res_jenkins_depletion_-1.500e-01_-1.000e+00_6.000e-01.in\n",
      "     CloudyInput: Input writen in /Users/dirk/Documents/PhD/scripts/CloudyGalaxy/examples/output_data/test_model_low_res_jenkins_depletion_7.000e-01_-4.000e+00_1.000e-01.in\n",
      "     CloudyInput: Input writen in /Users/dirk/Documents/PhD/scripts/CloudyGalaxy/examples/output_data/test_model_low_res_jenkins_depletion_7.000e-01_-4.000e+00_6.000e-01.in\n",
      "     CloudyInput: Input writen in /Users/dirk/Documents/PhD/scripts/CloudyGalaxy/examples/output_data/test_model_low_res_jenkins_depletion_7.000e-01_-1.000e+00_1.000e-01.in\n",
      "     CloudyInput: Input writen in /Users/dirk/Documents/PhD/scripts/CloudyGalaxy/examples/output_data/test_model_low_res_jenkins_depletion_7.000e-01_-1.000e+00_6.000e-01.in\n"
     ]
    }
   ],
   "source": [
    "pc.print_make_file(dir_ = output_dir)\n",
    "for i in range(nlogZs):\n",
    "    logZ = logZs[i]\n",
    "    xi_to_F = convert_xi_to_F(logZ)\n",
    "    for j in range(nlogUs):\n",
    "        for k in range(nxis):\n",
    "            logU = logUs[j]\n",
    "            xi = xis[k]\n",
    "            F = xi_to_F(xi)\n",
    "            Fs[i,k] = F\n",
    "            stellar_spectrum = StellarSpectrum(data_path, star_table_filename)\n",
    "            gas_stats = GasStats(stellar_spectrum, logZ, logU)\n",
    "            gas_stats.calc_all_parameters()\n",
    "            elemental_abundances = ElementalAbundances(logZ, F, scaling_method='jenkins09')\n",
    "            elemental_abundances.calc_all_parameters()\n",
    "            make_input_file(output_dir, model_name, logZ, logU, xi, emission_line_list, stellar_spectrum, gas_stats, elemental_abundances)"
   ]
  },
  {
   "cell_type": "markdown",
   "metadata": {},
   "source": [
    "### Running Cloudy"
   ]
  },
  {
   "cell_type": "code",
   "execution_count": 5,
   "metadata": {},
   "outputs": [
    {
     "name": "stdout",
     "output_type": "stream",
     "text": [
      "     run_cloudy: running: make -j 6 name=\"test_model_low_res_jenkins_depletion\"\n",
      "     run_cloudy: ending: make -j 6 name=\"test_model_low_res_jenkins_depletion\"\n"
     ]
    }
   ],
   "source": [
    "pc.run_cloudy(dir_ = output_dir, n_proc = n_proc, model_name = model_name, use_make = True)"
   ]
  },
  {
   "cell_type": "markdown",
   "metadata": {},
   "source": [
    "### Extracting the emission line luminosities from the Cloudy data files and storing them in .npy files"
   ]
  },
  {
   "cell_type": "code",
   "execution_count": 6,
   "metadata": {
    "scrolled": true
   },
   "outputs": [
    {
     "name": "stdout",
     "output_type": "stream",
     "text": [
      "/Users/dirk/Documents/PhD/scripts/CloudyGalaxy/examples/output_data/test_model_low_res_jenkins_depletion_-1.000e+00_-4.000e+00_1.000e-01\n",
      "     CloudyModel /Users/dirk/Documents/PhD/scripts/CloudyGalaxy/examples/output_data/test_model_low_res_jenkins_depletion_-1.000e+00_-4.000e+00_1.000e-01: Creating CloudyModel for /Users/dirk/Documents/PhD/scripts/CloudyGalaxy/examples/output_data/test_model_low_res_jenkins_depletion_-1.000e+00_-4.000e+00_1.000e-01\n",
      "     CloudyModel /Users/dirk/Documents/PhD/scripts/CloudyGalaxy/examples/output_data/test_model_low_res_jenkins_depletion_-1.000e+00_-4.000e+00_1.000e-01: /Users/dirk/Documents/PhD/scripts/CloudyGalaxy/examples/output_data/test_model_low_res_jenkins_depletion_-1.000e+00_-4.000e+00_1.000e-01.rad read\n",
      "     CloudyModel /Users/dirk/Documents/PhD/scripts/CloudyGalaxy/examples/output_data/test_model_low_res_jenkins_depletion_-1.000e+00_-4.000e+00_1.000e-01: Number of zones: 82\n",
      "     CloudyModel /Users/dirk/Documents/PhD/scripts/CloudyGalaxy/examples/output_data/test_model_low_res_jenkins_depletion_-1.000e+00_-4.000e+00_1.000e-01: /Users/dirk/Documents/PhD/scripts/CloudyGalaxy/examples/output_data/test_model_low_res_jenkins_depletion_-1.000e+00_-4.000e+00_1.000e-01.phy read\n",
      "     CloudyModel /Users/dirk/Documents/PhD/scripts/CloudyGalaxy/examples/output_data/test_model_low_res_jenkins_depletion_-1.000e+00_-4.000e+00_1.000e-01: /Users/dirk/Documents/PhD/scripts/CloudyGalaxy/examples/output_data/test_model_low_res_jenkins_depletion_-1.000e+00_-4.000e+00_1.000e-01.ele_H read\n",
      "     CloudyModel /Users/dirk/Documents/PhD/scripts/CloudyGalaxy/examples/output_data/test_model_low_res_jenkins_depletion_-1.000e+00_-4.000e+00_1.000e-01: filling H with 3 columns\n",
      "     CloudyModel /Users/dirk/Documents/PhD/scripts/CloudyGalaxy/examples/output_data/test_model_low_res_jenkins_depletion_-1.000e+00_-4.000e+00_1.000e-01: /Users/dirk/Documents/PhD/scripts/CloudyGalaxy/examples/output_data/test_model_low_res_jenkins_depletion_-1.000e+00_-4.000e+00_1.000e-01.ele_He read\n",
      "     CloudyModel /Users/dirk/Documents/PhD/scripts/CloudyGalaxy/examples/output_data/test_model_low_res_jenkins_depletion_-1.000e+00_-4.000e+00_1.000e-01: filling He with 3 columns\n",
      "     CloudyModel /Users/dirk/Documents/PhD/scripts/CloudyGalaxy/examples/output_data/test_model_low_res_jenkins_depletion_-1.000e+00_-4.000e+00_1.000e-01: /Users/dirk/Documents/PhD/scripts/CloudyGalaxy/examples/output_data/test_model_low_res_jenkins_depletion_-1.000e+00_-4.000e+00_1.000e-01.ele_C read\n",
      "     CloudyModel /Users/dirk/Documents/PhD/scripts/CloudyGalaxy/examples/output_data/test_model_low_res_jenkins_depletion_-1.000e+00_-4.000e+00_1.000e-01: filling C with 13 columns\n",
      "     CloudyModel /Users/dirk/Documents/PhD/scripts/CloudyGalaxy/examples/output_data/test_model_low_res_jenkins_depletion_-1.000e+00_-4.000e+00_1.000e-01: /Users/dirk/Documents/PhD/scripts/CloudyGalaxy/examples/output_data/test_model_low_res_jenkins_depletion_-1.000e+00_-4.000e+00_1.000e-01.ele_N read\n",
      "     CloudyModel /Users/dirk/Documents/PhD/scripts/CloudyGalaxy/examples/output_data/test_model_low_res_jenkins_depletion_-1.000e+00_-4.000e+00_1.000e-01: filling N with 8 columns\n",
      "     CloudyModel /Users/dirk/Documents/PhD/scripts/CloudyGalaxy/examples/output_data/test_model_low_res_jenkins_depletion_-1.000e+00_-4.000e+00_1.000e-01: /Users/dirk/Documents/PhD/scripts/CloudyGalaxy/examples/output_data/test_model_low_res_jenkins_depletion_-1.000e+00_-4.000e+00_1.000e-01.ele_O read\n",
      "     CloudyModel /Users/dirk/Documents/PhD/scripts/CloudyGalaxy/examples/output_data/test_model_low_res_jenkins_depletion_-1.000e+00_-4.000e+00_1.000e-01: filling O with 12 columns\n",
      "     CloudyModel /Users/dirk/Documents/PhD/scripts/CloudyGalaxy/examples/output_data/test_model_low_res_jenkins_depletion_-1.000e+00_-4.000e+00_1.000e-01: /Users/dirk/Documents/PhD/scripts/CloudyGalaxy/examples/output_data/test_model_low_res_jenkins_depletion_-1.000e+00_-4.000e+00_1.000e-01.ele_Ne read\n",
      "     CloudyModel /Users/dirk/Documents/PhD/scripts/CloudyGalaxy/examples/output_data/test_model_low_res_jenkins_depletion_-1.000e+00_-4.000e+00_1.000e-01: filling Ne with 11 columns\n",
      "     CloudyModel /Users/dirk/Documents/PhD/scripts/CloudyGalaxy/examples/output_data/test_model_low_res_jenkins_depletion_-1.000e+00_-4.000e+00_1.000e-01: /Users/dirk/Documents/PhD/scripts/CloudyGalaxy/examples/output_data/test_model_low_res_jenkins_depletion_-1.000e+00_-4.000e+00_1.000e-01.ele_Ar read\n",
      "     CloudyModel /Users/dirk/Documents/PhD/scripts/CloudyGalaxy/examples/output_data/test_model_low_res_jenkins_depletion_-1.000e+00_-4.000e+00_1.000e-01: filling Ar with 19 columns\n",
      "     CloudyModel /Users/dirk/Documents/PhD/scripts/CloudyGalaxy/examples/output_data/test_model_low_res_jenkins_depletion_-1.000e+00_-4.000e+00_1.000e-01: /Users/dirk/Documents/PhD/scripts/CloudyGalaxy/examples/output_data/test_model_low_res_jenkins_depletion_-1.000e+00_-4.000e+00_1.000e-01.ele_S read\n",
      "     CloudyModel /Users/dirk/Documents/PhD/scripts/CloudyGalaxy/examples/output_data/test_model_low_res_jenkins_depletion_-1.000e+00_-4.000e+00_1.000e-01: filling S with 17 columns\n",
      "     CloudyModel /Users/dirk/Documents/PhD/scripts/CloudyGalaxy/examples/output_data/test_model_low_res_jenkins_depletion_-1.000e+00_-4.000e+00_1.000e-01: /Users/dirk/Documents/PhD/scripts/CloudyGalaxy/examples/output_data/test_model_low_res_jenkins_depletion_-1.000e+00_-4.000e+00_1.000e-01.ele_Cl read\n",
      "     CloudyModel /Users/dirk/Documents/PhD/scripts/CloudyGalaxy/examples/output_data/test_model_low_res_jenkins_depletion_-1.000e+00_-4.000e+00_1.000e-01: filling Cl with 18 columns\n",
      "     CloudyModel /Users/dirk/Documents/PhD/scripts/CloudyGalaxy/examples/output_data/test_model_low_res_jenkins_depletion_-1.000e+00_-4.000e+00_1.000e-01: /Users/dirk/Documents/PhD/scripts/CloudyGalaxy/examples/output_data/test_model_low_res_jenkins_depletion_-1.000e+00_-4.000e+00_1.000e-01.ele_Fe read\n",
      "     CloudyModel /Users/dirk/Documents/PhD/scripts/CloudyGalaxy/examples/output_data/test_model_low_res_jenkins_depletion_-1.000e+00_-4.000e+00_1.000e-01: filling Fe with 27 columns\n",
      "     CloudyModel /Users/dirk/Documents/PhD/scripts/CloudyGalaxy/examples/output_data/test_model_low_res_jenkins_depletion_-1.000e+00_-4.000e+00_1.000e-01: /Users/dirk/Documents/PhD/scripts/CloudyGalaxy/examples/output_data/test_model_low_res_jenkins_depletion_-1.000e+00_-4.000e+00_1.000e-01.ele_Si read\n",
      "     CloudyModel /Users/dirk/Documents/PhD/scripts/CloudyGalaxy/examples/output_data/test_model_low_res_jenkins_depletion_-1.000e+00_-4.000e+00_1.000e-01: filling Si with 15 columns\n",
      "     CloudyModel /Users/dirk/Documents/PhD/scripts/CloudyGalaxy/examples/output_data/test_model_low_res_jenkins_depletion_-1.000e+00_-4.000e+00_1.000e-01: /Users/dirk/Documents/PhD/scripts/CloudyGalaxy/examples/output_data/test_model_low_res_jenkins_depletion_-1.000e+00_-4.000e+00_1.000e-01.emis read\n",
      "     CloudyModel /Users/dirk/Documents/PhD/scripts/CloudyGalaxy/examples/output_data/test_model_low_res_jenkins_depletion_-1.000e+00_-4.000e+00_1.000e-01: Number of emissivities: 73\n",
      "     CloudyModel /Users/dirk/Documents/PhD/scripts/CloudyGalaxy/examples/output_data/test_model_low_res_jenkins_depletion_-1.000e+00_-4.000e+00_1.000e-01: /Users/dirk/Documents/PhD/scripts/CloudyGalaxy/examples/output_data/test_model_low_res_jenkins_depletion_-1.000e+00_-4.000e+00_1.000e-01.cont read\n",
      "     load_models: 1 models read\n",
      "1 models found!\n",
      "PROCESSING: logZ = -1.0000, logU = -4.0000, xi = 0.1000, logtau = -2.0000.\n"
     ]
    },
    {
     "ename": "ValueError",
     "evalue": "could not broadcast input array from shape (73,) into shape (146,)",
     "output_type": "error",
     "traceback": [
      "\u001b[0;31m---------------------------------------------------------------------------\u001b[0m",
      "\u001b[0;31mValueError\u001b[0m                                Traceback (most recent call last)",
      "\u001b[0;32m<ipython-input-6-37a4ca0c5341>\u001b[0m in \u001b[0;36m<module>\u001b[0;34m\u001b[0m\n\u001b[0;32m----> 1\u001b[0;31m \u001b[0mmake_emission_line_files\u001b[0m\u001b[0;34m(\u001b[0m\u001b[0moutput_dir\u001b[0m\u001b[0;34m,\u001b[0m \u001b[0mmodel_name\u001b[0m\u001b[0;34m,\u001b[0m \u001b[0mlogZs\u001b[0m\u001b[0;34m,\u001b[0m \u001b[0mlogUs\u001b[0m\u001b[0;34m,\u001b[0m \u001b[0mxis\u001b[0m\u001b[0;34m,\u001b[0m \u001b[0mlogtaus\u001b[0m\u001b[0;34m,\u001b[0m \u001b[0mFs\u001b[0m\u001b[0;34m)\u001b[0m\u001b[0;34m\u001b[0m\u001b[0;34m\u001b[0m\u001b[0m\n\u001b[0m",
      "\u001b[0;32m~/Documents/PhD/scripts/CloudyGalaxy/examples/../CloudyGalaxy/read_write_cloudy.py\u001b[0m in \u001b[0;36mmake_emission_line_files\u001b[0;34m(output_dir, model_name, logZs, logUs, xis, logtaus, Fs, n_attenuation)\u001b[0m\n\u001b[1;32m    176\u001b[0m                     \u001b[0memline_param_cube\u001b[0m\u001b[0;34m[\u001b[0m\u001b[0mi\u001b[0m\u001b[0;34m,\u001b[0m\u001b[0mj\u001b[0m\u001b[0;34m,\u001b[0m\u001b[0mk\u001b[0m\u001b[0;34m,\u001b[0m\u001b[0ml\u001b[0m\u001b[0;34m]\u001b[0m \u001b[0;34m=\u001b[0m \u001b[0mnp\u001b[0m\u001b[0;34m.\u001b[0m\u001b[0marray\u001b[0m\u001b[0;34m(\u001b[0m\u001b[0;34m[\u001b[0m\u001b[0mlogZ\u001b[0m\u001b[0;34m,\u001b[0m \u001b[0mlogU\u001b[0m\u001b[0;34m,\u001b[0m \u001b[0mxi\u001b[0m\u001b[0;34m,\u001b[0m \u001b[0mlogtau\u001b[0m\u001b[0;34m]\u001b[0m\u001b[0;34m)\u001b[0m\u001b[0;34m\u001b[0m\u001b[0;34m\u001b[0m\u001b[0m\n\u001b[1;32m    177\u001b[0m                     \u001b[0memline_derived_param_cube\u001b[0m\u001b[0;34m[\u001b[0m\u001b[0mi\u001b[0m\u001b[0;34m,\u001b[0m\u001b[0mj\u001b[0m\u001b[0;34m,\u001b[0m\u001b[0mk\u001b[0m\u001b[0;34m,\u001b[0m\u001b[0ml\u001b[0m\u001b[0;34m]\u001b[0m \u001b[0;34m=\u001b[0m \u001b[0mnp\u001b[0m\u001b[0;34m.\u001b[0m\u001b[0marray\u001b[0m\u001b[0;34m(\u001b[0m\u001b[0;34m[\u001b[0m\u001b[0mF\u001b[0m\u001b[0;34m,\u001b[0m \u001b[0mmodel\u001b[0m\u001b[0;34m.\u001b[0m\u001b[0mabund\u001b[0m\u001b[0;34m[\u001b[0m\u001b[0;34m'O'\u001b[0m\u001b[0;34m]\u001b[0m\u001b[0;34m,\u001b[0m \u001b[0mcalc_log_dust\u001b[0m\u001b[0;34m(\u001b[0m\u001b[0mlogtau\u001b[0m\u001b[0;34m)\u001b[0m\u001b[0;34m,\u001b[0m \u001b[0mcalc_log_gas\u001b[0m\u001b[0;34m(\u001b[0m\u001b[0mlogZ\u001b[0m\u001b[0;34m,\u001b[0m \u001b[0mxi\u001b[0m\u001b[0;34m,\u001b[0m \u001b[0mlogtau\u001b[0m\u001b[0;34m)\u001b[0m\u001b[0;34m]\u001b[0m\u001b[0;34m)\u001b[0m\u001b[0;34m\u001b[0m\u001b[0;34m\u001b[0m\u001b[0m\n\u001b[0;32m--> 178\u001b[0;31m                     \u001b[0memline_luminosity_cube\u001b[0m\u001b[0;34m[\u001b[0m\u001b[0mi\u001b[0m\u001b[0;34m,\u001b[0m\u001b[0mj\u001b[0m\u001b[0;34m,\u001b[0m\u001b[0mk\u001b[0m\u001b[0;34m,\u001b[0m\u001b[0ml\u001b[0m\u001b[0;34m]\u001b[0m \u001b[0;34m=\u001b[0m \u001b[0mattenuated_emission_lines\u001b[0m\u001b[0;34m\u001b[0m\u001b[0;34m\u001b[0m\u001b[0m\n\u001b[0m\u001b[1;32m    179\u001b[0m                     \u001b[0;32mif\u001b[0m \u001b[0mi\u001b[0m\u001b[0;34m==\u001b[0m\u001b[0;36m0\u001b[0m \u001b[0;32mand\u001b[0m \u001b[0mj\u001b[0m\u001b[0;34m==\u001b[0m\u001b[0;36m0\u001b[0m \u001b[0;32mand\u001b[0m \u001b[0mk\u001b[0m\u001b[0;34m==\u001b[0m\u001b[0;36m0\u001b[0m \u001b[0;32mand\u001b[0m \u001b[0ml\u001b[0m\u001b[0;34m==\u001b[0m\u001b[0;36m0\u001b[0m\u001b[0;34m:\u001b[0m\u001b[0;34m\u001b[0m\u001b[0;34m\u001b[0m\u001b[0m\n\u001b[1;32m    180\u001b[0m                         \u001b[0memline_labels\u001b[0m \u001b[0;34m=\u001b[0m \u001b[0mmodel\u001b[0m\u001b[0;34m.\u001b[0m\u001b[0memis_labels\u001b[0m\u001b[0;34m\u001b[0m\u001b[0;34m\u001b[0m\u001b[0m\n",
      "\u001b[0;31mValueError\u001b[0m: could not broadcast input array from shape (73,) into shape (146,)"
     ]
    }
   ],
   "source": [
    "make_emission_line_files(output_dir, model_name, logZs, logUs, xis, logtaus, Fs)"
   ]
  },
  {
   "cell_type": "code",
   "execution_count": null,
   "metadata": {},
   "outputs": [],
   "source": []
  }
 ],
 "metadata": {
  "kernelspec": {
   "display_name": "CloudyGalaxy",
   "language": "python",
   "name": "cloudygalaxy"
  },
  "language_info": {
   "codemirror_mode": {
    "name": "ipython",
    "version": 3
   },
   "file_extension": ".py",
   "mimetype": "text/x-python",
   "name": "python",
   "nbconvert_exporter": "python",
   "pygments_lexer": "ipython3",
   "version": "3.9.5"
  }
 },
 "nbformat": 4,
 "nbformat_minor": 4
}
